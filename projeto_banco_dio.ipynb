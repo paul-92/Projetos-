{
  "nbformat": 4,
  "nbformat_minor": 0,
  "metadata": {
    "colab": {
      "provenance": [],
      "authorship_tag": "ABX9TyOI+tdQGvso38n05V3xwydG",
      "include_colab_link": true
    },
    "kernelspec": {
      "name": "python3",
      "display_name": "Python 3"
    },
    "language_info": {
      "name": "python"
    }
  },
  "cells": [
    {
      "cell_type": "markdown",
      "metadata": {
        "id": "view-in-github",
        "colab_type": "text"
      },
      "source": [
        "<a href=\"https://colab.research.google.com/github/paul-92/Projetos-/blob/main/projeto_banco_dio.ipynb\" target=\"_parent\"><img src=\"https://colab.research.google.com/assets/colab-badge.svg\" alt=\"Open In Colab\"/></a>"
      ]
    },
    {
      "cell_type": "code",
      "execution_count": null,
      "metadata": {
        "id": "CNENYWqJTkUp",
        "colab": {
          "base_uri": "https://localhost:8080/"
        },
        "outputId": "ebed4250-9e7c-4faf-8762-f01970f0dcb2"
      },
      "outputs": [
        {
          "output_type": "stream",
          "name": "stdout",
          "text": [
            "MENU\n",
            "==============\n",
            "\n",
            "      [D] Deposito\n",
            "      [S] Saque\n",
            "      [E] Extrato\n",
            "      [Q] Encerrar\n",
            "Escolha uma Opção acima:d\n",
            "Digite o Valor:1200\n",
            "MENU\n",
            "==============\n",
            "\n",
            "      [D] Deposito\n",
            "      [S] Saque\n",
            "      [E] Extrato\n",
            "      [Q] Encerrar\n",
            "Escolha uma Opção acima:e\n",
            "EXTRATO\n",
            "2024-02-29 18:36:54.637856\n",
            "================================================================\n",
            "Hora    Operação    Valor\n",
            "18:36:54 Depósito: R$1200.00\n",
            "Saldo R$: 1200.00\n",
            "MENU\n",
            "==============\n",
            "\n",
            "      [D] Deposito\n",
            "      [S] Saque\n",
            "      [E] Extrato\n",
            "      [Q] Encerrar\n",
            "Escolha uma Opção acima:q\n",
            "Encerrando sessão\n"
          ]
        }
      ],
      "source": [
        "import datetime\n",
        "\n",
        "data = datetime.datetime.now()\n",
        "hora = (\"%s:%s:%s\" %(data.hour,data.minute,data.second))\n",
        "extrato = ''\n",
        "saques = 0\n",
        "LIMITE_SAQUE = 3\n",
        "saldo = 0\n",
        "while True:\n",
        "\n",
        "    print(\"MENU\")\n",
        "    print(\"==============\")\n",
        "    print('''\n",
        "      [D] Deposito\n",
        "      [S] Saque\n",
        "      [E] Extrato\n",
        "      [Q] Encerrar'''\n",
        "         )\n",
        "    opcao = input('Escolha uma Opção acima:')\n",
        "\n",
        "    if opcao == 'd':\n",
        "        valor = float(input('Digite o Valor:')  )\n",
        "        saldo += valor\n",
        "        extrato += f'{hora} Depósito: R${valor:.2f}'\n",
        "    if opcao == 's':\n",
        "\n",
        "        valor_saqu = float(input('Digite o valor:'))\n",
        "\n",
        "        if valor_saqu  > saldo:\n",
        "                print('Saldo Insuficiente')\n",
        "        elif valor_saqu > 500:\n",
        "                print('Valor maior que o permitido para saque')\n",
        "        elif LIMITE_SAQUE < saques:\n",
        "                print('Você excedeu a quantidade de saques permitido')\n",
        "        else:\n",
        "            print('Saque realizado com sucesso')\n",
        "            extrato += f'{hora} Saque: -R${valor_saqu:.2f}'\n",
        "            saldo-=valor_saqu\n",
        "        saques+=1\n",
        "\n",
        "    if opcao == 'e':\n",
        "\n",
        "        if extrato == '':\n",
        "            print('Sem Movimentações')\n",
        "        else:\n",
        "            print('EXTRATO')\n",
        "            print(data)\n",
        "            print(\"================================================================\")\n",
        "            print(\"Hora\",\"  \",\"Operação\",\"  \",\"Valor\")\n",
        "            print(extrato)\n",
        "            print(f'Saldo R$: {saldo:.2f}')\n",
        "    if opcao == 'q':\n",
        "     print('Encerrando sessão')\n",
        "     break\n"
      ]
    },
    {
      "cell_type": "code",
      "source": [],
      "metadata": {
        "id": "iPbNOJkwMecE"
      },
      "execution_count": null,
      "outputs": []
    }
  ]
}